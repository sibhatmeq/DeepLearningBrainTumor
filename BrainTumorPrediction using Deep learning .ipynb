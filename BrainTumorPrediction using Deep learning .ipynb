{
 "cells": [
  {
   "cell_type": "code",
   "execution_count": 2,
   "id": "b77ec272",
   "metadata": {},
   "outputs": [],
   "source": [
    "import pandas as pd\n",
    "import numpy as np\n",
    "import seaborn as sns\n",
    "import matplotlib.pyplot as plt\n",
    "from warnings import filterwarnings\n",
    "from sklearn.metrics import confusion_matrix, accuracy_score, classification_report, roc_auc_score, roc_curve\n",
    "from tensorflow.keras.models import Sequential\n",
    "from keras.layers import Dense, Dropout, Flatten, Conv2D, MaxPool2D, BatchNormalization,MaxPooling2D\n",
    "from keras import models\n",
    "from keras import layers\n",
    "import tensorflow as tf\n",
    "import os\n",
    "import os.path\n",
    "from pathlib import Path\n",
    "import cv2\n",
    "from tensorflow.keras.preprocessing.image import ImageDataGenerator\n",
    "from keras.utils.np_utils import to_categorical\n",
    "from sklearn.model_selection import train_test_split\n",
    "from keras import regularizers\n",
    "from keras.optimizers import RMSprop,Adam\n",
    "import glob\n",
    "from PIL import Image\n",
    "\n",
    "\n",
    "# IGNORING UNNECESSARRY WARNINGS\n",
    "\n",
    "filterwarnings(\"ignore\",category=DeprecationWarning)\n",
    "filterwarnings(\"ignore\", category=FutureWarning) \n",
    "filterwarnings(\"ignore\", category=UserWarning)\n"
   ]
  },
  {
   "cell_type": "code",
   "execution_count": 3,
   "id": "c627001c",
   "metadata": {},
   "outputs": [],
   "source": [
    "#PATH PROCESS "
   ]
  },
  {
   "cell_type": "code",
   "execution_count": 4,
   "id": "8b20efbe",
   "metadata": {},
   "outputs": [],
   "source": [
    "No_Data_Path = Path(\"C:/Users/Sibhat/MRI detection/no\")\n",
    "Yes_Data_Path = Path(\"C:/Users/Sibhat/MRI detection/yes\")"
   ]
  },
  {
   "cell_type": "code",
   "execution_count": 5,
   "id": "c92089f1",
   "metadata": {},
   "outputs": [],
   "source": [
    "No_JPG_Path = list(No_Data_Path.glob(r\"*.jpg\"))\n",
    "Yes_JPG_Path = list(Yes_Data_Path.glob(r\"*.jpg\"))"
   ]
  },
  {
   "cell_type": "code",
   "execution_count": 6,
   "id": "925a6bc8",
   "metadata": {},
   "outputs": [
    {
     "name": "stdout",
     "output_type": "stream",
     "text": [
      "[WindowsPath('C:/Users/Sibhat/MRI detection/no/no0.jpg'), WindowsPath('C:/Users/Sibhat/MRI detection/no/no1.jpg'), WindowsPath('C:/Users/Sibhat/MRI detection/no/no10.jpg'), WindowsPath('C:/Users/Sibhat/MRI detection/no/no100.jpg'), WindowsPath('C:/Users/Sibhat/MRI detection/no/no1000.jpg')]\n",
      "----------------------------------------------------------------------------------------------------\n",
      "[WindowsPath('C:/Users/Sibhat/MRI detection/yes/y0.jpg'), WindowsPath('C:/Users/Sibhat/MRI detection/yes/y1.jpg'), WindowsPath('C:/Users/Sibhat/MRI detection/yes/y10.jpg'), WindowsPath('C:/Users/Sibhat/MRI detection/yes/y100.jpg'), WindowsPath('C:/Users/Sibhat/MRI detection/yes/y1000.jpg')]\n"
     ]
    }
   ],
   "source": [
    "print(No_JPG_Path[0:5])\n",
    "print(\"-----\"*20)\n",
    "print(Yes_JPG_Path[0:5])"
   ]
  },
  {
   "cell_type": "code",
   "execution_count": 7,
   "id": "7acacdaf",
   "metadata": {},
   "outputs": [],
   "source": [
    "Yes_No_List = []\n",
    "\n",
    "for No_JPG in No_JPG_Path:\n",
    "    Yes_No_List.append(No_JPG)\n",
    "    \n",
    "for Yes_JPG in Yes_JPG_Path:\n",
    "    Yes_No_List.append(Yes_JPG)"
   ]
  },
  {
   "cell_type": "code",
   "execution_count": 8,
   "id": "a4341ff3",
   "metadata": {},
   "outputs": [
    {
     "name": "stdout",
     "output_type": "stream",
     "text": [
      "[WindowsPath('C:/Users/Sibhat/MRI detection/no/no0.jpg'), WindowsPath('C:/Users/Sibhat/MRI detection/no/no1.jpg'), WindowsPath('C:/Users/Sibhat/MRI detection/no/no10.jpg'), WindowsPath('C:/Users/Sibhat/MRI detection/no/no100.jpg'), WindowsPath('C:/Users/Sibhat/MRI detection/no/no1000.jpg'), WindowsPath('C:/Users/Sibhat/MRI detection/no/no1001.jpg'), WindowsPath('C:/Users/Sibhat/MRI detection/no/no1002.jpg'), WindowsPath('C:/Users/Sibhat/MRI detection/no/no1003.jpg'), WindowsPath('C:/Users/Sibhat/MRI detection/no/no1004.jpg'), WindowsPath('C:/Users/Sibhat/MRI detection/no/no1005.jpg')]\n"
     ]
    }
   ],
   "source": [
    "print(Yes_No_List[0:10])"
   ]
  },
  {
   "cell_type": "code",
   "execution_count": null,
   "id": "66aa07a6",
   "metadata": {},
   "outputs": [],
   "source": []
  },
  {
   "cell_type": "code",
   "execution_count": null,
   "id": "e93cb8b4",
   "metadata": {},
   "outputs": [],
   "source": []
  },
  {
   "cell_type": "code",
   "execution_count": null,
   "id": "e6dfe165",
   "metadata": {},
   "outputs": [],
   "source": []
  }
 ],
 "metadata": {
  "kernelspec": {
   "display_name": "Python 3 (ipykernel)",
   "language": "python",
   "name": "python3"
  },
  "language_info": {
   "codemirror_mode": {
    "name": "ipython",
    "version": 3
   },
   "file_extension": ".py",
   "mimetype": "text/x-python",
   "name": "python",
   "nbconvert_exporter": "python",
   "pygments_lexer": "ipython3",
   "version": "3.9.13"
  }
 },
 "nbformat": 4,
 "nbformat_minor": 5
}
